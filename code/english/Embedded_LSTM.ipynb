{
  "nbformat": 4,
  "nbformat_minor": 0,
  "metadata": {
    "colab": {
      "provenance": [],
      "gpuType": "T4"
    },
    "kernelspec": {
      "name": "python3",
      "display_name": "Python 3"
    },
    "language_info": {
      "name": "python"
    },
    "accelerator": "GPU"
  },
  "cells": [
    {
      "cell_type": "code",
      "execution_count": null,
      "metadata": {
        "id": "X9EBLtD22Jgw"
      },
      "outputs": [],
      "source": [
        "from keras import Sequential\n",
        "\n",
        "model = Sequential()"
      ]
    },
    {
      "cell_type": "code",
      "source": [],
      "metadata": {
        "id": "H0wp6qROmjZG"
      },
      "execution_count": null,
      "outputs": []
    },
    {
      "cell_type": "code",
      "execution_count": null,
      "metadata": {
        "id": "Un9TI3JI9JE9"
      },
      "outputs": [],
      "source": [
        "import csv\n",
        "import numpy as np\n",
        "from keras import regularizers\n",
        "from keras.callbacks import EarlyStopping, ModelCheckpoint\n",
        "from keras.layers import Dense, Dropout, Embedding, GRU, SimpleRNN, RNN, LSTM, Flatten, Activation\n",
        "from keras.models import Sequential\n",
        "from keras.preprocessing.sequence import pad_sequences\n",
        "from sklearn.metrics import f1_score, precision_score, recall_score, precision_recall_fscore_support, accuracy_score\n",
        "# from baseline import bong\n",
        "from sklearn.model_selection import StratifiedKFold\n",
        "from sklearn.preprocessing import LabelEncoder\n",
        "import time"
      ]
    },
    {
      "cell_type": "code",
      "source": [
        "def get_data(train_file, test_file, padding='post'):\n",
        "    list_of_sentences_train = list()\n",
        "    list_of_hateful_train = list()\n",
        "    list_of_aggressive_train = list()\n",
        "    list_of_targeted_train = list()\n",
        "    max_length = list()\n",
        "\n",
        "    ### Train file ###\n",
        "    with open(train_file, encoding=\"utf8\") as cur_train_file:\n",
        "        reader = csv.reader(cur_train_file, delimiter='\\t')\n",
        "        for row in reader:\n",
        "            list_of_sentences_train.append(row[1])\n",
        "            list_of_hateful_train.append(row[2])\n",
        "            list_of_targeted_train.append(row[3])\n",
        "            list_of_aggressive_train.append(row[4])\n",
        "\n",
        "    list_of_sentences_train.pop(0)\n",
        "    list_of_hateful_train.pop(0)\n",
        "    list_of_targeted_train.pop(0)\n",
        "    list_of_aggressive_train.pop(0)\n",
        "\n",
        "    for x in list_of_sentences_train:\n",
        "        max_length.append(len(x))\n",
        "    longest_sent = max(max_length)\n",
        "\n",
        "    alphabet = dict()\n",
        "    train_words = []\n",
        "\n",
        "    for sent in list_of_sentences_train:\n",
        "        words = []\n",
        "        for char in sent:\n",
        "            if char in alphabet:\n",
        "                words.append(alphabet[char])\n",
        "            else:\n",
        "                alphabet[char] = len(alphabet) + 1\n",
        "                words.append(alphabet[char])\n",
        "\n",
        "        train_words.append(words)\n",
        "\n",
        "    train_x = train_words\n",
        "    #train_y_hateful = list_of_hateful_train\n",
        "    train_y_hateful = [int(label) for label in list_of_hateful_train]\n",
        "    train_y_targeted = list_of_targeted_train\n",
        "    train_y_aggressive = list_of_aggressive_train\n",
        "\n",
        "    train_x = pad_sequences(train_x, padding=padding, value=0, maxlen=longest_sent, truncating='post')\n",
        "\n",
        "    ### TEST FIlE ###\n",
        "\n",
        "    list_of_sentences_test = list()\n",
        "    list_of_hateful_test = list()\n",
        "    list_of_aggressive_test = list()\n",
        "    list_of_targeted_test = list()\n",
        "\n",
        "    with open(test_file, encoding=\"utf8\") as cur_test_file:\n",
        "        reader = csv.reader(cur_test_file, delimiter='\\t')\n",
        "        for row in reader:\n",
        "            list_of_sentences_test.append(row[1])\n",
        "            list_of_hateful_test.append(row[2])\n",
        "            list_of_aggressive_test.append(row[3])\n",
        "            list_of_targeted_test.append(row[4])\n",
        "\n",
        "        list_of_sentences_test.pop(0)\n",
        "        list_of_hateful_test.pop(0)\n",
        "        list_of_aggressive_test.pop(0)\n",
        "        list_of_targeted_test.pop(0)\n",
        "\n",
        "        test_words = []\n",
        "        alphabet_length = len(alphabet)\n",
        "\n",
        "        for test_sent in list_of_sentences_test:\n",
        "            words = []\n",
        "            for char_test in test_sent:\n",
        "                if char_test in alphabet:\n",
        "                    words.append(alphabet[char_test])\n",
        "                else:\n",
        "                    unk = alphabet_length + 1\n",
        "                    words.append(unk)\n",
        "\n",
        "            test_words.append(words)\n",
        "\n",
        "        test_x = test_words\n",
        "        #test_y_hateful = list_of_hateful_test\n",
        "        test_y_hateful = [int(label) for label in list_of_hateful_test]\n",
        "        test_y_aggressive = list_of_aggressive_test\n",
        "        test_y_targeted = list_of_targeted_test\n",
        "\n",
        "        test_x = pad_sequences(test_x, padding=padding, value=0, maxlen=longest_sent, truncating='post')\n",
        "\n",
        "        print(len(train_x), len(train_y_hateful),len(train_y_aggressive), len(train_y_targeted), len(test_x),\n",
        "             len(test_y_hateful), len(test_y_aggressive), len(test_y_targeted))\n",
        "\n",
        "        return train_x, train_y_hateful, train_y_aggressive, train_y_targeted, test_x, test_y_hateful, test_y_aggressive, test_y_targeted, longest_sent"
      ],
      "metadata": {
        "id": "3YFtP6Ru96pZ"
      },
      "execution_count": null,
      "outputs": []
    },
    {
      "cell_type": "code",
      "source": [
        "seed = 7\n",
        "np.random.seed(seed)"
      ],
      "metadata": {
        "id": "D2bqtZUEBD63"
      },
      "execution_count": null,
      "outputs": []
    },
    {
      "cell_type": "code",
      "source": [
        "from tensorflow.keras.utils import plot_model\n",
        "\n",
        "train_x, train_y_hateful, train_y_aggressive, train_y_targeted, test_x, test_y_hateful, test_y_aggressive, test_y_targeted, max_sent = get_data(\n",
        "        train_file='/content/train_en.tsv',\n",
        "        test_file='/content/dev_en.tsv',\n",
        "        padding='post')\n",
        "\n",
        "train_x = np.asarray(train_x)\n",
        "train_y = np.asarray(train_y_hateful)\n",
        "train_y = np.reshape(train_y, (-1, 1))\n",
        "test_x = np.asarray(test_x)\n",
        "test_y = np.asarray(test_y_hateful)\n",
        "test_y = np.reshape(test_y, (-1, 1))\n",
        "\n",
        "recurrent_model = Sequential()\n",
        "recurrent_model.add(Embedding(input_dim=5000, output_dim=28, input_length=max_sent, mask_zero=False))\n",
        "recurrent_model.add(LSTM(units=64, return_sequences=True, recurrent_dropout=0.1))\n",
        "recurrent_model.add(Flatten())\n",
        "\n",
        "recurrent_model.add(Dense(units=1, activation='sigmoid'))\n",
        "recurrent_model.compile(optimizer='adam', loss='binary_crossentropy', metrics=['accuracy'])\n",
        "\n",
        "plot_model(recurrent_model, to_file=\"/content/embedded_lstm.png\", show_shapes=True, show_dtype=False, show_layer_names=False, show_trainable=True, show_layer_activations=True)\n",
        "\n",
        "# Set callback functions to early stop training and save the best model so far\n",
        "es = EarlyStopping(monitor='val_loss', patience=5)\n",
        "\n",
        "# Train neural network\n",
        "    # recurrent_model.fit(train_x, train_y, validation_split=0.2, epochs=100, callbacks=[es], batch_size=64)\n",
        "time1 = time.ctime()\n",
        "recurrent_model.fit(train_x, train_y, callbacks=[es], epochs=50, batch_size=128)\n",
        "time2 = time.ctime()"
      ],
      "metadata": {
        "id": "YKLy3e2OAggZ",
        "colab": {
          "base_uri": "https://localhost:8080/"
        },
        "outputId": "9cc72f80-85ca-4130-b192-7f34890663c8"
      },
      "execution_count": null,
      "outputs": [
        {
          "output_type": "stream",
          "name": "stderr",
          "text": [
            "WARNING:tensorflow:Layer lstm will not use cuDNN kernels since it doesn't meet the criteria. It will use a generic GPU kernel as fallback when running on GPU.\n"
          ]
        },
        {
          "output_type": "stream",
          "name": "stdout",
          "text": [
            "9000 9000 9000 9000 1000 1000 1000 1000\n",
            "Epoch 1/50\n",
            "71/71 [==============================] - ETA: 0s - loss: 0.6515 - accuracy: 0.6160"
          ]
        },
        {
          "output_type": "stream",
          "name": "stderr",
          "text": [
            "WARNING:tensorflow:Early stopping conditioned on metric `val_loss` which is not available. Available metrics are: loss,accuracy\n"
          ]
        },
        {
          "output_type": "stream",
          "name": "stdout",
          "text": [
            "\b\b\b\b\b\b\b\b\b\b\b\b\b\b\b\b\b\b\b\b\b\b\b\b\b\b\b\b\b\b\b\b\b\b\b\b\b\b\b\b\b\b\b\b\b\b\b\b\b\b\b\b\b\b\b\b\b\b\b\b\b\b\b\b\b\b\b\b\b\b\b\b\b\b\b\b\b\b\b\b\b\b\r71/71 [==============================] - 102s 1s/step - loss: 0.6515 - accuracy: 0.6160\n",
            "Epoch 2/50\n",
            "71/71 [==============================] - ETA: 0s - loss: 0.5859 - accuracy: 0.6843"
          ]
        },
        {
          "output_type": "stream",
          "name": "stderr",
          "text": [
            "WARNING:tensorflow:Early stopping conditioned on metric `val_loss` which is not available. Available metrics are: loss,accuracy\n"
          ]
        },
        {
          "output_type": "stream",
          "name": "stdout",
          "text": [
            "\b\b\b\b\b\b\b\b\b\b\b\b\b\b\b\b\b\b\b\b\b\b\b\b\b\b\b\b\b\b\b\b\b\b\b\b\b\b\b\b\b\b\b\b\b\b\b\b\b\b\b\b\b\b\b\b\b\b\b\b\b\b\b\b\b\b\b\b\b\b\b\b\b\b\b\b\b\b\b\b\b\b\r71/71 [==============================] - 90s 1s/step - loss: 0.5859 - accuracy: 0.6843\n",
            "Epoch 3/50\n",
            "71/71 [==============================] - ETA: 0s - loss: 0.5744 - accuracy: 0.6902"
          ]
        },
        {
          "output_type": "stream",
          "name": "stderr",
          "text": [
            "WARNING:tensorflow:Early stopping conditioned on metric `val_loss` which is not available. Available metrics are: loss,accuracy\n"
          ]
        },
        {
          "output_type": "stream",
          "name": "stdout",
          "text": [
            "\b\b\b\b\b\b\b\b\b\b\b\b\b\b\b\b\b\b\b\b\b\b\b\b\b\b\b\b\b\b\b\b\b\b\b\b\b\b\b\b\b\b\b\b\b\b\b\b\b\b\b\b\b\b\b\b\b\b\b\b\b\b\b\b\b\b\b\b\b\b\b\b\b\b\b\b\b\b\b\b\b\b\r71/71 [==============================] - 87s 1s/step - loss: 0.5744 - accuracy: 0.6902\n",
            "Epoch 4/50\n",
            "71/71 [==============================] - ETA: 0s - loss: 0.5655 - accuracy: 0.7022"
          ]
        },
        {
          "output_type": "stream",
          "name": "stderr",
          "text": [
            "WARNING:tensorflow:Early stopping conditioned on metric `val_loss` which is not available. Available metrics are: loss,accuracy\n"
          ]
        },
        {
          "output_type": "stream",
          "name": "stdout",
          "text": [
            "\b\b\b\b\b\b\b\b\b\b\b\b\b\b\b\b\b\b\b\b\b\b\b\b\b\b\b\b\b\b\b\b\b\b\b\b\b\b\b\b\b\b\b\b\b\b\b\b\b\b\b\b\b\b\b\b\b\b\b\b\b\b\b\b\b\b\b\b\b\b\b\b\b\b\b\b\b\b\b\b\b\b\r71/71 [==============================] - 87s 1s/step - loss: 0.5655 - accuracy: 0.7022\n",
            "Epoch 5/50\n",
            "71/71 [==============================] - ETA: 0s - loss: 0.5533 - accuracy: 0.7114"
          ]
        },
        {
          "output_type": "stream",
          "name": "stderr",
          "text": [
            "WARNING:tensorflow:Early stopping conditioned on metric `val_loss` which is not available. Available metrics are: loss,accuracy\n"
          ]
        },
        {
          "output_type": "stream",
          "name": "stdout",
          "text": [
            "\b\b\b\b\b\b\b\b\b\b\b\b\b\b\b\b\b\b\b\b\b\b\b\b\b\b\b\b\b\b\b\b\b\b\b\b\b\b\b\b\b\b\b\b\b\b\b\b\b\b\b\b\b\b\b\b\b\b\b\b\b\b\b\b\b\b\b\b\b\b\b\b\b\b\b\b\b\b\b\b\b\b\r71/71 [==============================] - 89s 1s/step - loss: 0.5533 - accuracy: 0.7114\n",
            "Epoch 6/50\n",
            "71/71 [==============================] - ETA: 0s - loss: 0.5413 - accuracy: 0.7190"
          ]
        },
        {
          "output_type": "stream",
          "name": "stderr",
          "text": [
            "WARNING:tensorflow:Early stopping conditioned on metric `val_loss` which is not available. Available metrics are: loss,accuracy\n"
          ]
        },
        {
          "output_type": "stream",
          "name": "stdout",
          "text": [
            "\b\b\b\b\b\b\b\b\b\b\b\b\b\b\b\b\b\b\b\b\b\b\b\b\b\b\b\b\b\b\b\b\b\b\b\b\b\b\b\b\b\b\b\b\b\b\b\b\b\b\b\b\b\b\b\b\b\b\b\b\b\b\b\b\b\b\b\b\b\b\b\b\b\b\b\b\b\b\b\b\b\b\r71/71 [==============================] - 91s 1s/step - loss: 0.5413 - accuracy: 0.7190\n",
            "Epoch 7/50\n",
            "71/71 [==============================] - ETA: 0s - loss: 0.5372 - accuracy: 0.7234"
          ]
        },
        {
          "output_type": "stream",
          "name": "stderr",
          "text": [
            "WARNING:tensorflow:Early stopping conditioned on metric `val_loss` which is not available. Available metrics are: loss,accuracy\n"
          ]
        },
        {
          "output_type": "stream",
          "name": "stdout",
          "text": [
            "\b\b\b\b\b\b\b\b\b\b\b\b\b\b\b\b\b\b\b\b\b\b\b\b\b\b\b\b\b\b\b\b\b\b\b\b\b\b\b\b\b\b\b\b\b\b\b\b\b\b\b\b\b\b\b\b\b\b\b\b\b\b\b\b\b\b\b\b\b\b\b\b\b\b\b\b\b\b\b\b\b\b\r71/71 [==============================] - 96s 1s/step - loss: 0.5372 - accuracy: 0.7234\n",
            "Epoch 8/50\n",
            "71/71 [==============================] - ETA: 0s - loss: 0.5288 - accuracy: 0.7264"
          ]
        },
        {
          "output_type": "stream",
          "name": "stderr",
          "text": [
            "WARNING:tensorflow:Early stopping conditioned on metric `val_loss` which is not available. Available metrics are: loss,accuracy\n"
          ]
        },
        {
          "output_type": "stream",
          "name": "stdout",
          "text": [
            "\b\b\b\b\b\b\b\b\b\b\b\b\b\b\b\b\b\b\b\b\b\b\b\b\b\b\b\b\b\b\b\b\b\b\b\b\b\b\b\b\b\b\b\b\b\b\b\b\b\b\b\b\b\b\b\b\b\b\b\b\b\b\b\b\b\b\b\b\b\b\b\b\b\b\b\b\b\b\b\b\b\b\r71/71 [==============================] - 89s 1s/step - loss: 0.5288 - accuracy: 0.7264\n",
            "Epoch 9/50\n",
            "71/71 [==============================] - ETA: 0s - loss: 0.5215 - accuracy: 0.7331"
          ]
        },
        {
          "output_type": "stream",
          "name": "stderr",
          "text": [
            "WARNING:tensorflow:Early stopping conditioned on metric `val_loss` which is not available. Available metrics are: loss,accuracy\n"
          ]
        },
        {
          "output_type": "stream",
          "name": "stdout",
          "text": [
            "\b\b\b\b\b\b\b\b\b\b\b\b\b\b\b\b\b\b\b\b\b\b\b\b\b\b\b\b\b\b\b\b\b\b\b\b\b\b\b\b\b\b\b\b\b\b\b\b\b\b\b\b\b\b\b\b\b\b\b\b\b\b\b\b\b\b\b\b\b\b\b\b\b\b\b\b\b\b\b\b\b\b\r71/71 [==============================] - 92s 1s/step - loss: 0.5215 - accuracy: 0.7331\n",
            "Epoch 10/50\n",
            "71/71 [==============================] - ETA: 0s - loss: 0.5105 - accuracy: 0.7402"
          ]
        },
        {
          "output_type": "stream",
          "name": "stderr",
          "text": [
            "WARNING:tensorflow:Early stopping conditioned on metric `val_loss` which is not available. Available metrics are: loss,accuracy\n"
          ]
        },
        {
          "output_type": "stream",
          "name": "stdout",
          "text": [
            "\b\b\b\b\b\b\b\b\b\b\b\b\b\b\b\b\b\b\b\b\b\b\b\b\b\b\b\b\b\b\b\b\b\b\b\b\b\b\b\b\b\b\b\b\b\b\b\b\b\b\b\b\b\b\b\b\b\b\b\b\b\b\b\b\b\b\b\b\b\b\b\b\b\b\b\b\b\b\b\b\b\b\r71/71 [==============================] - 94s 1s/step - loss: 0.5105 - accuracy: 0.7402\n",
            "Epoch 11/50\n",
            "71/71 [==============================] - ETA: 0s - loss: 0.5016 - accuracy: 0.7479"
          ]
        },
        {
          "output_type": "stream",
          "name": "stderr",
          "text": [
            "WARNING:tensorflow:Early stopping conditioned on metric `val_loss` which is not available. Available metrics are: loss,accuracy\n"
          ]
        },
        {
          "output_type": "stream",
          "name": "stdout",
          "text": [
            "\b\b\b\b\b\b\b\b\b\b\b\b\b\b\b\b\b\b\b\b\b\b\b\b\b\b\b\b\b\b\b\b\b\b\b\b\b\b\b\b\b\b\b\b\b\b\b\b\b\b\b\b\b\b\b\b\b\b\b\b\b\b\b\b\b\b\b\b\b\b\b\b\b\b\b\b\b\b\b\b\b\b\r71/71 [==============================] - 89s 1s/step - loss: 0.5016 - accuracy: 0.7479\n",
            "Epoch 12/50\n",
            "71/71 [==============================] - ETA: 0s - loss: 0.4933 - accuracy: 0.7511"
          ]
        },
        {
          "output_type": "stream",
          "name": "stderr",
          "text": [
            "WARNING:tensorflow:Early stopping conditioned on metric `val_loss` which is not available. Available metrics are: loss,accuracy\n"
          ]
        },
        {
          "output_type": "stream",
          "name": "stdout",
          "text": [
            "\b\b\b\b\b\b\b\b\b\b\b\b\b\b\b\b\b\b\b\b\b\b\b\b\b\b\b\b\b\b\b\b\b\b\b\b\b\b\b\b\b\b\b\b\b\b\b\b\b\b\b\b\b\b\b\b\b\b\b\b\b\b\b\b\b\b\b\b\b\b\b\b\b\b\b\b\b\b\b\b\b\b\r71/71 [==============================] - 88s 1s/step - loss: 0.4933 - accuracy: 0.7511\n",
            "Epoch 13/50\n",
            "71/71 [==============================] - ETA: 0s - loss: 0.4828 - accuracy: 0.7636"
          ]
        },
        {
          "output_type": "stream",
          "name": "stderr",
          "text": [
            "WARNING:tensorflow:Early stopping conditioned on metric `val_loss` which is not available. Available metrics are: loss,accuracy\n"
          ]
        },
        {
          "output_type": "stream",
          "name": "stdout",
          "text": [
            "\b\b\b\b\b\b\b\b\b\b\b\b\b\b\b\b\b\b\b\b\b\b\b\b\b\b\b\b\b\b\b\b\b\b\b\b\b\b\b\b\b\b\b\b\b\b\b\b\b\b\b\b\b\b\b\b\b\b\b\b\b\b\b\b\b\b\b\b\b\b\b\b\b\b\b\b\b\b\b\b\b\b\r71/71 [==============================] - 88s 1s/step - loss: 0.4828 - accuracy: 0.7636\n",
            "Epoch 14/50\n",
            "71/71 [==============================] - ETA: 0s - loss: 0.4689 - accuracy: 0.7716"
          ]
        },
        {
          "output_type": "stream",
          "name": "stderr",
          "text": [
            "WARNING:tensorflow:Early stopping conditioned on metric `val_loss` which is not available. Available metrics are: loss,accuracy\n"
          ]
        },
        {
          "output_type": "stream",
          "name": "stdout",
          "text": [
            "\b\b\b\b\b\b\b\b\b\b\b\b\b\b\b\b\b\b\b\b\b\b\b\b\b\b\b\b\b\b\b\b\b\b\b\b\b\b\b\b\b\b\b\b\b\b\b\b\b\b\b\b\b\b\b\b\b\b\b\b\b\b\b\b\b\b\b\b\b\b\b\b\b\b\b\b\b\b\b\b\b\b\r71/71 [==============================] - 87s 1s/step - loss: 0.4689 - accuracy: 0.7716\n",
            "Epoch 15/50\n",
            "71/71 [==============================] - ETA: 0s - loss: 0.4593 - accuracy: 0.7766"
          ]
        },
        {
          "output_type": "stream",
          "name": "stderr",
          "text": [
            "WARNING:tensorflow:Early stopping conditioned on metric `val_loss` which is not available. Available metrics are: loss,accuracy\n"
          ]
        },
        {
          "output_type": "stream",
          "name": "stdout",
          "text": [
            "\b\b\b\b\b\b\b\b\b\b\b\b\b\b\b\b\b\b\b\b\b\b\b\b\b\b\b\b\b\b\b\b\b\b\b\b\b\b\b\b\b\b\b\b\b\b\b\b\b\b\b\b\b\b\b\b\b\b\b\b\b\b\b\b\b\b\b\b\b\b\b\b\b\b\b\b\b\b\b\b\b\b\r71/71 [==============================] - 87s 1s/step - loss: 0.4593 - accuracy: 0.7766\n",
            "Epoch 16/50\n",
            "71/71 [==============================] - ETA: 0s - loss: 0.4494 - accuracy: 0.7868"
          ]
        },
        {
          "output_type": "stream",
          "name": "stderr",
          "text": [
            "WARNING:tensorflow:Early stopping conditioned on metric `val_loss` which is not available. Available metrics are: loss,accuracy\n"
          ]
        },
        {
          "output_type": "stream",
          "name": "stdout",
          "text": [
            "\b\b\b\b\b\b\b\b\b\b\b\b\b\b\b\b\b\b\b\b\b\b\b\b\b\b\b\b\b\b\b\b\b\b\b\b\b\b\b\b\b\b\b\b\b\b\b\b\b\b\b\b\b\b\b\b\b\b\b\b\b\b\b\b\b\b\b\b\b\b\b\b\b\b\b\b\b\b\b\b\b\b\r71/71 [==============================] - 88s 1s/step - loss: 0.4494 - accuracy: 0.7868\n",
            "Epoch 17/50\n",
            "71/71 [==============================] - ETA: 0s - loss: 0.4357 - accuracy: 0.7909"
          ]
        },
        {
          "output_type": "stream",
          "name": "stderr",
          "text": [
            "WARNING:tensorflow:Early stopping conditioned on metric `val_loss` which is not available. Available metrics are: loss,accuracy\n"
          ]
        },
        {
          "output_type": "stream",
          "name": "stdout",
          "text": [
            "\b\b\b\b\b\b\b\b\b\b\b\b\b\b\b\b\b\b\b\b\b\b\b\b\b\b\b\b\b\b\b\b\b\b\b\b\b\b\b\b\b\b\b\b\b\b\b\b\b\b\b\b\b\b\b\b\b\b\b\b\b\b\b\b\b\b\b\b\b\b\b\b\b\b\b\b\b\b\b\b\b\b\r71/71 [==============================] - 88s 1s/step - loss: 0.4357 - accuracy: 0.7909\n",
            "Epoch 18/50\n",
            "71/71 [==============================] - ETA: 0s - loss: 0.4264 - accuracy: 0.8002"
          ]
        },
        {
          "output_type": "stream",
          "name": "stderr",
          "text": [
            "WARNING:tensorflow:Early stopping conditioned on metric `val_loss` which is not available. Available metrics are: loss,accuracy\n"
          ]
        },
        {
          "output_type": "stream",
          "name": "stdout",
          "text": [
            "\b\b\b\b\b\b\b\b\b\b\b\b\b\b\b\b\b\b\b\b\b\b\b\b\b\b\b\b\b\b\b\b\b\b\b\b\b\b\b\b\b\b\b\b\b\b\b\b\b\b\b\b\b\b\b\b\b\b\b\b\b\b\b\b\b\b\b\b\b\b\b\b\b\b\b\b\b\b\b\b\b\b\r71/71 [==============================] - 87s 1s/step - loss: 0.4264 - accuracy: 0.8002\n",
            "Epoch 19/50\n",
            "71/71 [==============================] - ETA: 0s - loss: 0.4163 - accuracy: 0.8041"
          ]
        },
        {
          "output_type": "stream",
          "name": "stderr",
          "text": [
            "WARNING:tensorflow:Early stopping conditioned on metric `val_loss` which is not available. Available metrics are: loss,accuracy\n"
          ]
        },
        {
          "output_type": "stream",
          "name": "stdout",
          "text": [
            "\b\b\b\b\b\b\b\b\b\b\b\b\b\b\b\b\b\b\b\b\b\b\b\b\b\b\b\b\b\b\b\b\b\b\b\b\b\b\b\b\b\b\b\b\b\b\b\b\b\b\b\b\b\b\b\b\b\b\b\b\b\b\b\b\b\b\b\b\b\b\b\b\b\b\b\b\b\b\b\b\b\b\r71/71 [==============================] - 89s 1s/step - loss: 0.4163 - accuracy: 0.8041\n",
            "Epoch 20/50\n",
            "71/71 [==============================] - ETA: 0s - loss: 0.4057 - accuracy: 0.8134"
          ]
        },
        {
          "output_type": "stream",
          "name": "stderr",
          "text": [
            "WARNING:tensorflow:Early stopping conditioned on metric `val_loss` which is not available. Available metrics are: loss,accuracy\n"
          ]
        },
        {
          "output_type": "stream",
          "name": "stdout",
          "text": [
            "\b\b\b\b\b\b\b\b\b\b\b\b\b\b\b\b\b\b\b\b\b\b\b\b\b\b\b\b\b\b\b\b\b\b\b\b\b\b\b\b\b\b\b\b\b\b\b\b\b\b\b\b\b\b\b\b\b\b\b\b\b\b\b\b\b\b\b\b\b\b\b\b\b\b\b\b\b\b\b\b\b\b\r71/71 [==============================] - 87s 1s/step - loss: 0.4057 - accuracy: 0.8134\n",
            "Epoch 21/50\n",
            "71/71 [==============================] - ETA: 0s - loss: 0.3990 - accuracy: 0.8187"
          ]
        },
        {
          "output_type": "stream",
          "name": "stderr",
          "text": [
            "WARNING:tensorflow:Early stopping conditioned on metric `val_loss` which is not available. Available metrics are: loss,accuracy\n"
          ]
        },
        {
          "output_type": "stream",
          "name": "stdout",
          "text": [
            "\b\b\b\b\b\b\b\b\b\b\b\b\b\b\b\b\b\b\b\b\b\b\b\b\b\b\b\b\b\b\b\b\b\b\b\b\b\b\b\b\b\b\b\b\b\b\b\b\b\b\b\b\b\b\b\b\b\b\b\b\b\b\b\b\b\b\b\b\b\b\b\b\b\b\b\b\b\b\b\b\b\b\r71/71 [==============================] - 90s 1s/step - loss: 0.3990 - accuracy: 0.8187\n",
            "Epoch 22/50\n",
            "71/71 [==============================] - ETA: 0s - loss: 0.3875 - accuracy: 0.8230"
          ]
        },
        {
          "output_type": "stream",
          "name": "stderr",
          "text": [
            "WARNING:tensorflow:Early stopping conditioned on metric `val_loss` which is not available. Available metrics are: loss,accuracy\n"
          ]
        },
        {
          "output_type": "stream",
          "name": "stdout",
          "text": [
            "\b\b\b\b\b\b\b\b\b\b\b\b\b\b\b\b\b\b\b\b\b\b\b\b\b\b\b\b\b\b\b\b\b\b\b\b\b\b\b\b\b\b\b\b\b\b\b\b\b\b\b\b\b\b\b\b\b\b\b\b\b\b\b\b\b\b\b\b\b\b\b\b\b\b\b\b\b\b\b\b\b\b\r71/71 [==============================] - 87s 1s/step - loss: 0.3875 - accuracy: 0.8230\n",
            "Epoch 23/50\n",
            "71/71 [==============================] - ETA: 0s - loss: 0.3756 - accuracy: 0.8330"
          ]
        },
        {
          "output_type": "stream",
          "name": "stderr",
          "text": [
            "WARNING:tensorflow:Early stopping conditioned on metric `val_loss` which is not available. Available metrics are: loss,accuracy\n"
          ]
        },
        {
          "output_type": "stream",
          "name": "stdout",
          "text": [
            "\b\b\b\b\b\b\b\b\b\b\b\b\b\b\b\b\b\b\b\b\b\b\b\b\b\b\b\b\b\b\b\b\b\b\b\b\b\b\b\b\b\b\b\b\b\b\b\b\b\b\b\b\b\b\b\b\b\b\b\b\b\b\b\b\b\b\b\b\b\b\b\b\b\b\b\b\b\b\b\b\b\b\r71/71 [==============================] - 88s 1s/step - loss: 0.3756 - accuracy: 0.8330\n",
            "Epoch 24/50\n",
            "71/71 [==============================] - ETA: 0s - loss: 0.3658 - accuracy: 0.8333"
          ]
        },
        {
          "output_type": "stream",
          "name": "stderr",
          "text": [
            "WARNING:tensorflow:Early stopping conditioned on metric `val_loss` which is not available. Available metrics are: loss,accuracy\n"
          ]
        },
        {
          "output_type": "stream",
          "name": "stdout",
          "text": [
            "\b\b\b\b\b\b\b\b\b\b\b\b\b\b\b\b\b\b\b\b\b\b\b\b\b\b\b\b\b\b\b\b\b\b\b\b\b\b\b\b\b\b\b\b\b\b\b\b\b\b\b\b\b\b\b\b\b\b\b\b\b\b\b\b\b\b\b\b\b\b\b\b\b\b\b\b\b\b\b\b\b\b\r71/71 [==============================] - 90s 1s/step - loss: 0.3658 - accuracy: 0.8333\n",
            "Epoch 25/50\n",
            "71/71 [==============================] - ETA: 0s - loss: 0.3579 - accuracy: 0.8384"
          ]
        },
        {
          "output_type": "stream",
          "name": "stderr",
          "text": [
            "WARNING:tensorflow:Early stopping conditioned on metric `val_loss` which is not available. Available metrics are: loss,accuracy\n"
          ]
        },
        {
          "output_type": "stream",
          "name": "stdout",
          "text": [
            "\b\b\b\b\b\b\b\b\b\b\b\b\b\b\b\b\b\b\b\b\b\b\b\b\b\b\b\b\b\b\b\b\b\b\b\b\b\b\b\b\b\b\b\b\b\b\b\b\b\b\b\b\b\b\b\b\b\b\b\b\b\b\b\b\b\b\b\b\b\b\b\b\b\b\b\b\b\b\b\b\b\b\r71/71 [==============================] - 86s 1s/step - loss: 0.3579 - accuracy: 0.8384\n",
            "Epoch 26/50\n",
            "71/71 [==============================] - ETA: 0s - loss: 0.3445 - accuracy: 0.8456"
          ]
        },
        {
          "output_type": "stream",
          "name": "stderr",
          "text": [
            "WARNING:tensorflow:Early stopping conditioned on metric `val_loss` which is not available. Available metrics are: loss,accuracy\n"
          ]
        },
        {
          "output_type": "stream",
          "name": "stdout",
          "text": [
            "\b\b\b\b\b\b\b\b\b\b\b\b\b\b\b\b\b\b\b\b\b\b\b\b\b\b\b\b\b\b\b\b\b\b\b\b\b\b\b\b\b\b\b\b\b\b\b\b\b\b\b\b\b\b\b\b\b\b\b\b\b\b\b\b\b\b\b\b\b\b\b\b\b\b\b\b\b\b\b\b\b\b\r71/71 [==============================] - 87s 1s/step - loss: 0.3445 - accuracy: 0.8456\n",
            "Epoch 27/50\n",
            "71/71 [==============================] - ETA: 0s - loss: 0.3366 - accuracy: 0.8541"
          ]
        },
        {
          "output_type": "stream",
          "name": "stderr",
          "text": [
            "WARNING:tensorflow:Early stopping conditioned on metric `val_loss` which is not available. Available metrics are: loss,accuracy\n"
          ]
        },
        {
          "output_type": "stream",
          "name": "stdout",
          "text": [
            "\b\b\b\b\b\b\b\b\b\b\b\b\b\b\b\b\b\b\b\b\b\b\b\b\b\b\b\b\b\b\b\b\b\b\b\b\b\b\b\b\b\b\b\b\b\b\b\b\b\b\b\b\b\b\b\b\b\b\b\b\b\b\b\b\b\b\b\b\b\b\b\b\b\b\b\b\b\b\b\b\b\b\r71/71 [==============================] - 91s 1s/step - loss: 0.3366 - accuracy: 0.8541\n",
            "Epoch 28/50\n",
            "71/71 [==============================] - ETA: 0s - loss: 0.3243 - accuracy: 0.8567"
          ]
        },
        {
          "output_type": "stream",
          "name": "stderr",
          "text": [
            "WARNING:tensorflow:Early stopping conditioned on metric `val_loss` which is not available. Available metrics are: loss,accuracy\n"
          ]
        },
        {
          "output_type": "stream",
          "name": "stdout",
          "text": [
            "\b\b\b\b\b\b\b\b\b\b\b\b\b\b\b\b\b\b\b\b\b\b\b\b\b\b\b\b\b\b\b\b\b\b\b\b\b\b\b\b\b\b\b\b\b\b\b\b\b\b\b\b\b\b\b\b\b\b\b\b\b\b\b\b\b\b\b\b\b\b\b\b\b\b\b\b\b\b\b\b\b\b\r71/71 [==============================] - 87s 1s/step - loss: 0.3243 - accuracy: 0.8567\n",
            "Epoch 29/50\n",
            "71/71 [==============================] - ETA: 0s - loss: 0.3201 - accuracy: 0.8598"
          ]
        },
        {
          "output_type": "stream",
          "name": "stderr",
          "text": [
            "WARNING:tensorflow:Early stopping conditioned on metric `val_loss` which is not available. Available metrics are: loss,accuracy\n"
          ]
        },
        {
          "output_type": "stream",
          "name": "stdout",
          "text": [
            "\b\b\b\b\b\b\b\b\b\b\b\b\b\b\b\b\b\b\b\b\b\b\b\b\b\b\b\b\b\b\b\b\b\b\b\b\b\b\b\b\b\b\b\b\b\b\b\b\b\b\b\b\b\b\b\b\b\b\b\b\b\b\b\b\b\b\b\b\b\b\b\b\b\b\b\b\b\b\b\b\b\b\r71/71 [==============================] - 87s 1s/step - loss: 0.3201 - accuracy: 0.8598\n",
            "Epoch 30/50\n",
            "71/71 [==============================] - ETA: 0s - loss: 0.3029 - accuracy: 0.8730"
          ]
        },
        {
          "output_type": "stream",
          "name": "stderr",
          "text": [
            "WARNING:tensorflow:Early stopping conditioned on metric `val_loss` which is not available. Available metrics are: loss,accuracy\n"
          ]
        },
        {
          "output_type": "stream",
          "name": "stdout",
          "text": [
            "\b\b\b\b\b\b\b\b\b\b\b\b\b\b\b\b\b\b\b\b\b\b\b\b\b\b\b\b\b\b\b\b\b\b\b\b\b\b\b\b\b\b\b\b\b\b\b\b\b\b\b\b\b\b\b\b\b\b\b\b\b\b\b\b\b\b\b\b\b\b\b\b\b\b\b\b\b\b\b\b\b\b\r71/71 [==============================] - 89s 1s/step - loss: 0.3029 - accuracy: 0.8730\n",
            "Epoch 31/50\n",
            "71/71 [==============================] - ETA: 0s - loss: 0.2940 - accuracy: 0.8758"
          ]
        },
        {
          "output_type": "stream",
          "name": "stderr",
          "text": [
            "WARNING:tensorflow:Early stopping conditioned on metric `val_loss` which is not available. Available metrics are: loss,accuracy\n"
          ]
        },
        {
          "output_type": "stream",
          "name": "stdout",
          "text": [
            "\b\b\b\b\b\b\b\b\b\b\b\b\b\b\b\b\b\b\b\b\b\b\b\b\b\b\b\b\b\b\b\b\b\b\b\b\b\b\b\b\b\b\b\b\b\b\b\b\b\b\b\b\b\b\b\b\b\b\b\b\b\b\b\b\b\b\b\b\b\b\b\b\b\b\b\b\b\b\b\b\b\b\r71/71 [==============================] - 86s 1s/step - loss: 0.2940 - accuracy: 0.8758\n",
            "Epoch 32/50\n",
            "71/71 [==============================] - ETA: 0s - loss: 0.2845 - accuracy: 0.8808"
          ]
        },
        {
          "output_type": "stream",
          "name": "stderr",
          "text": [
            "WARNING:tensorflow:Early stopping conditioned on metric `val_loss` which is not available. Available metrics are: loss,accuracy\n"
          ]
        },
        {
          "output_type": "stream",
          "name": "stdout",
          "text": [
            "\b\b\b\b\b\b\b\b\b\b\b\b\b\b\b\b\b\b\b\b\b\b\b\b\b\b\b\b\b\b\b\b\b\b\b\b\b\b\b\b\b\b\b\b\b\b\b\b\b\b\b\b\b\b\b\b\b\b\b\b\b\b\b\b\b\b\b\b\b\b\b\b\b\b\b\b\b\b\b\b\b\b\r71/71 [==============================] - 89s 1s/step - loss: 0.2845 - accuracy: 0.8808\n",
            "Epoch 33/50\n",
            "71/71 [==============================] - ETA: 0s - loss: 0.2755 - accuracy: 0.8833"
          ]
        },
        {
          "output_type": "stream",
          "name": "stderr",
          "text": [
            "WARNING:tensorflow:Early stopping conditioned on metric `val_loss` which is not available. Available metrics are: loss,accuracy\n"
          ]
        },
        {
          "output_type": "stream",
          "name": "stdout",
          "text": [
            "\b\b\b\b\b\b\b\b\b\b\b\b\b\b\b\b\b\b\b\b\b\b\b\b\b\b\b\b\b\b\b\b\b\b\b\b\b\b\b\b\b\b\b\b\b\b\b\b\b\b\b\b\b\b\b\b\b\b\b\b\b\b\b\b\b\b\b\b\b\b\b\b\b\b\b\b\b\b\b\b\b\b\r71/71 [==============================] - 89s 1s/step - loss: 0.2755 - accuracy: 0.8833\n",
            "Epoch 34/50\n",
            "71/71 [==============================] - ETA: 0s - loss: 0.2674 - accuracy: 0.8888"
          ]
        },
        {
          "output_type": "stream",
          "name": "stderr",
          "text": [
            "WARNING:tensorflow:Early stopping conditioned on metric `val_loss` which is not available. Available metrics are: loss,accuracy\n"
          ]
        },
        {
          "output_type": "stream",
          "name": "stdout",
          "text": [
            "\b\b\b\b\b\b\b\b\b\b\b\b\b\b\b\b\b\b\b\b\b\b\b\b\b\b\b\b\b\b\b\b\b\b\b\b\b\b\b\b\b\b\b\b\b\b\b\b\b\b\b\b\b\b\b\b\b\b\b\b\b\b\b\b\b\b\b\b\b\b\b\b\b\b\b\b\b\b\b\b\b\b\r71/71 [==============================] - 88s 1s/step - loss: 0.2674 - accuracy: 0.8888\n",
            "Epoch 35/50\n",
            "71/71 [==============================] - ETA: 0s - loss: 0.2483 - accuracy: 0.9002"
          ]
        },
        {
          "output_type": "stream",
          "name": "stderr",
          "text": [
            "WARNING:tensorflow:Early stopping conditioned on metric `val_loss` which is not available. Available metrics are: loss,accuracy\n"
          ]
        },
        {
          "output_type": "stream",
          "name": "stdout",
          "text": [
            "\b\b\b\b\b\b\b\b\b\b\b\b\b\b\b\b\b\b\b\b\b\b\b\b\b\b\b\b\b\b\b\b\b\b\b\b\b\b\b\b\b\b\b\b\b\b\b\b\b\b\b\b\b\b\b\b\b\b\b\b\b\b\b\b\b\b\b\b\b\b\b\b\b\b\b\b\b\b\b\b\b\b\r71/71 [==============================] - 91s 1s/step - loss: 0.2483 - accuracy: 0.9002\n",
            "Epoch 36/50\n",
            "71/71 [==============================] - ETA: 0s - loss: 0.2389 - accuracy: 0.9018"
          ]
        },
        {
          "output_type": "stream",
          "name": "stderr",
          "text": [
            "WARNING:tensorflow:Early stopping conditioned on metric `val_loss` which is not available. Available metrics are: loss,accuracy\n"
          ]
        },
        {
          "output_type": "stream",
          "name": "stdout",
          "text": [
            "\b\b\b\b\b\b\b\b\b\b\b\b\b\b\b\b\b\b\b\b\b\b\b\b\b\b\b\b\b\b\b\b\b\b\b\b\b\b\b\b\b\b\b\b\b\b\b\b\b\b\b\b\b\b\b\b\b\b\b\b\b\b\b\b\b\b\b\b\b\b\b\b\b\b\b\b\b\b\b\b\b\b\r71/71 [==============================] - 88s 1s/step - loss: 0.2389 - accuracy: 0.9018\n",
            "Epoch 37/50\n",
            "71/71 [==============================] - ETA: 0s - loss: 0.2290 - accuracy: 0.9067"
          ]
        },
        {
          "output_type": "stream",
          "name": "stderr",
          "text": [
            "WARNING:tensorflow:Early stopping conditioned on metric `val_loss` which is not available. Available metrics are: loss,accuracy\n"
          ]
        },
        {
          "output_type": "stream",
          "name": "stdout",
          "text": [
            "\b\b\b\b\b\b\b\b\b\b\b\b\b\b\b\b\b\b\b\b\b\b\b\b\b\b\b\b\b\b\b\b\b\b\b\b\b\b\b\b\b\b\b\b\b\b\b\b\b\b\b\b\b\b\b\b\b\b\b\b\b\b\b\b\b\b\b\b\b\b\b\b\b\b\b\b\b\b\b\b\b\b\r71/71 [==============================] - 89s 1s/step - loss: 0.2290 - accuracy: 0.9067\n",
            "Epoch 38/50\n",
            "71/71 [==============================] - ETA: 0s - loss: 0.2231 - accuracy: 0.9111"
          ]
        },
        {
          "output_type": "stream",
          "name": "stderr",
          "text": [
            "WARNING:tensorflow:Early stopping conditioned on metric `val_loss` which is not available. Available metrics are: loss,accuracy\n"
          ]
        },
        {
          "output_type": "stream",
          "name": "stdout",
          "text": [
            "\b\b\b\b\b\b\b\b\b\b\b\b\b\b\b\b\b\b\b\b\b\b\b\b\b\b\b\b\b\b\b\b\b\b\b\b\b\b\b\b\b\b\b\b\b\b\b\b\b\b\b\b\b\b\b\b\b\b\b\b\b\b\b\b\b\b\b\b\b\b\b\b\b\b\b\b\b\b\b\b\b\b\r71/71 [==============================] - 87s 1s/step - loss: 0.2231 - accuracy: 0.9111\n",
            "Epoch 39/50\n",
            "71/71 [==============================] - ETA: 0s - loss: 0.2106 - accuracy: 0.9171"
          ]
        },
        {
          "output_type": "stream",
          "name": "stderr",
          "text": [
            "WARNING:tensorflow:Early stopping conditioned on metric `val_loss` which is not available. Available metrics are: loss,accuracy\n"
          ]
        },
        {
          "output_type": "stream",
          "name": "stdout",
          "text": [
            "\b\b\b\b\b\b\b\b\b\b\b\b\b\b\b\b\b\b\b\b\b\b\b\b\b\b\b\b\b\b\b\b\b\b\b\b\b\b\b\b\b\b\b\b\b\b\b\b\b\b\b\b\b\b\b\b\b\b\b\b\b\b\b\b\b\b\b\b\b\b\b\b\b\b\b\b\b\b\b\b\b\b\r71/71 [==============================] - 86s 1s/step - loss: 0.2106 - accuracy: 0.9171\n",
            "Epoch 40/50\n",
            "71/71 [==============================] - ETA: 0s - loss: 0.1957 - accuracy: 0.9226"
          ]
        },
        {
          "output_type": "stream",
          "name": "stderr",
          "text": [
            "WARNING:tensorflow:Early stopping conditioned on metric `val_loss` which is not available. Available metrics are: loss,accuracy\n"
          ]
        },
        {
          "output_type": "stream",
          "name": "stdout",
          "text": [
            "\b\b\b\b\b\b\b\b\b\b\b\b\b\b\b\b\b\b\b\b\b\b\b\b\b\b\b\b\b\b\b\b\b\b\b\b\b\b\b\b\b\b\b\b\b\b\b\b\b\b\b\b\b\b\b\b\b\b\b\b\b\b\b\b\b\b\b\b\b\b\b\b\b\b\b\b\b\b\b\b\b\b\r71/71 [==============================] - 87s 1s/step - loss: 0.1957 - accuracy: 0.9226\n",
            "Epoch 41/50\n",
            "71/71 [==============================] - ETA: 0s - loss: 0.1907 - accuracy: 0.9268"
          ]
        },
        {
          "output_type": "stream",
          "name": "stderr",
          "text": [
            "WARNING:tensorflow:Early stopping conditioned on metric `val_loss` which is not available. Available metrics are: loss,accuracy\n"
          ]
        },
        {
          "output_type": "stream",
          "name": "stdout",
          "text": [
            "\b\b\b\b\b\b\b\b\b\b\b\b\b\b\b\b\b\b\b\b\b\b\b\b\b\b\b\b\b\b\b\b\b\b\b\b\b\b\b\b\b\b\b\b\b\b\b\b\b\b\b\b\b\b\b\b\b\b\b\b\b\b\b\b\b\b\b\b\b\b\b\b\b\b\b\b\b\b\b\b\b\b\r71/71 [==============================] - 88s 1s/step - loss: 0.1907 - accuracy: 0.9268\n",
            "Epoch 42/50\n",
            "71/71 [==============================] - ETA: 0s - loss: 0.1774 - accuracy: 0.9307"
          ]
        },
        {
          "output_type": "stream",
          "name": "stderr",
          "text": [
            "WARNING:tensorflow:Early stopping conditioned on metric `val_loss` which is not available. Available metrics are: loss,accuracy\n"
          ]
        },
        {
          "output_type": "stream",
          "name": "stdout",
          "text": [
            "\b\b\b\b\b\b\b\b\b\b\b\b\b\b\b\b\b\b\b\b\b\b\b\b\b\b\b\b\b\b\b\b\b\b\b\b\b\b\b\b\b\b\b\b\b\b\b\b\b\b\b\b\b\b\b\b\b\b\b\b\b\b\b\b\b\b\b\b\b\b\b\b\b\b\b\b\b\b\b\b\b\b\r71/71 [==============================] - 88s 1s/step - loss: 0.1774 - accuracy: 0.9307\n",
            "Epoch 43/50\n",
            "71/71 [==============================] - ETA: 0s - loss: 0.1754 - accuracy: 0.9336"
          ]
        },
        {
          "output_type": "stream",
          "name": "stderr",
          "text": [
            "WARNING:tensorflow:Early stopping conditioned on metric `val_loss` which is not available. Available metrics are: loss,accuracy\n"
          ]
        },
        {
          "output_type": "stream",
          "name": "stdout",
          "text": [
            "\b\b\b\b\b\b\b\b\b\b\b\b\b\b\b\b\b\b\b\b\b\b\b\b\b\b\b\b\b\b\b\b\b\b\b\b\b\b\b\b\b\b\b\b\b\b\b\b\b\b\b\b\b\b\b\b\b\b\b\b\b\b\b\b\b\b\b\b\b\b\b\b\b\b\b\b\b\b\b\b\b\b\r71/71 [==============================] - 87s 1s/step - loss: 0.1754 - accuracy: 0.9336\n",
            "Epoch 44/50\n",
            "71/71 [==============================] - ETA: 0s - loss: 0.1602 - accuracy: 0.9402"
          ]
        },
        {
          "output_type": "stream",
          "name": "stderr",
          "text": [
            "WARNING:tensorflow:Early stopping conditioned on metric `val_loss` which is not available. Available metrics are: loss,accuracy\n"
          ]
        },
        {
          "output_type": "stream",
          "name": "stdout",
          "text": [
            "\b\b\b\b\b\b\b\b\b\b\b\b\b\b\b\b\b\b\b\b\b\b\b\b\b\b\b\b\b\b\b\b\b\b\b\b\b\b\b\b\b\b\b\b\b\b\b\b\b\b\b\b\b\b\b\b\b\b\b\b\b\b\b\b\b\b\b\b\b\b\b\b\b\b\b\b\b\b\b\b\b\b\r71/71 [==============================] - 87s 1s/step - loss: 0.1602 - accuracy: 0.9402\n",
            "Epoch 45/50\n",
            "71/71 [==============================] - ETA: 0s - loss: 0.1468 - accuracy: 0.9450"
          ]
        },
        {
          "output_type": "stream",
          "name": "stderr",
          "text": [
            "WARNING:tensorflow:Early stopping conditioned on metric `val_loss` which is not available. Available metrics are: loss,accuracy\n"
          ]
        },
        {
          "output_type": "stream",
          "name": "stdout",
          "text": [
            "\b\b\b\b\b\b\b\b\b\b\b\b\b\b\b\b\b\b\b\b\b\b\b\b\b\b\b\b\b\b\b\b\b\b\b\b\b\b\b\b\b\b\b\b\b\b\b\b\b\b\b\b\b\b\b\b\b\b\b\b\b\b\b\b\b\b\b\b\b\b\b\b\b\b\b\b\b\b\b\b\b\b\r71/71 [==============================] - 88s 1s/step - loss: 0.1468 - accuracy: 0.9450\n",
            "Epoch 46/50\n",
            "71/71 [==============================] - ETA: 0s - loss: 0.1430 - accuracy: 0.9480"
          ]
        },
        {
          "output_type": "stream",
          "name": "stderr",
          "text": [
            "WARNING:tensorflow:Early stopping conditioned on metric `val_loss` which is not available. Available metrics are: loss,accuracy\n"
          ]
        },
        {
          "output_type": "stream",
          "name": "stdout",
          "text": [
            "\b\b\b\b\b\b\b\b\b\b\b\b\b\b\b\b\b\b\b\b\b\b\b\b\b\b\b\b\b\b\b\b\b\b\b\b\b\b\b\b\b\b\b\b\b\b\b\b\b\b\b\b\b\b\b\b\b\b\b\b\b\b\b\b\b\b\b\b\b\b\b\b\b\b\b\b\b\b\b\b\b\b\r71/71 [==============================] - 90s 1s/step - loss: 0.1430 - accuracy: 0.9480\n",
            "Epoch 47/50\n",
            "71/71 [==============================] - ETA: 0s - loss: 0.1373 - accuracy: 0.9479"
          ]
        },
        {
          "output_type": "stream",
          "name": "stderr",
          "text": [
            "WARNING:tensorflow:Early stopping conditioned on metric `val_loss` which is not available. Available metrics are: loss,accuracy\n"
          ]
        },
        {
          "output_type": "stream",
          "name": "stdout",
          "text": [
            "\b\b\b\b\b\b\b\b\b\b\b\b\b\b\b\b\b\b\b\b\b\b\b\b\b\b\b\b\b\b\b\b\b\b\b\b\b\b\b\b\b\b\b\b\b\b\b\b\b\b\b\b\b\b\b\b\b\b\b\b\b\b\b\b\b\b\b\b\b\b\b\b\b\b\b\b\b\b\b\b\b\b\r71/71 [==============================] - 87s 1s/step - loss: 0.1373 - accuracy: 0.9479\n",
            "Epoch 48/50\n",
            "71/71 [==============================] - ETA: 0s - loss: 0.1237 - accuracy: 0.9573"
          ]
        },
        {
          "output_type": "stream",
          "name": "stderr",
          "text": [
            "WARNING:tensorflow:Early stopping conditioned on metric `val_loss` which is not available. Available metrics are: loss,accuracy\n"
          ]
        },
        {
          "output_type": "stream",
          "name": "stdout",
          "text": [
            "\b\b\b\b\b\b\b\b\b\b\b\b\b\b\b\b\b\b\b\b\b\b\b\b\b\b\b\b\b\b\b\b\b\b\b\b\b\b\b\b\b\b\b\b\b\b\b\b\b\b\b\b\b\b\b\b\b\b\b\b\b\b\b\b\b\b\b\b\b\b\b\b\b\b\b\b\b\b\b\b\b\b\r71/71 [==============================] - 87s 1s/step - loss: 0.1237 - accuracy: 0.9573\n",
            "Epoch 49/50\n",
            "71/71 [==============================] - ETA: 0s - loss: 0.1126 - accuracy: 0.9612"
          ]
        },
        {
          "output_type": "stream",
          "name": "stderr",
          "text": [
            "WARNING:tensorflow:Early stopping conditioned on metric `val_loss` which is not available. Available metrics are: loss,accuracy\n"
          ]
        },
        {
          "output_type": "stream",
          "name": "stdout",
          "text": [
            "\b\b\b\b\b\b\b\b\b\b\b\b\b\b\b\b\b\b\b\b\b\b\b\b\b\b\b\b\b\b\b\b\b\b\b\b\b\b\b\b\b\b\b\b\b\b\b\b\b\b\b\b\b\b\b\b\b\b\b\b\b\b\b\b\b\b\b\b\b\b\b\b\b\b\b\b\b\b\b\b\b\b\r71/71 [==============================] - 89s 1s/step - loss: 0.1126 - accuracy: 0.9612\n",
            "Epoch 50/50\n",
            "71/71 [==============================] - ETA: 0s - loss: 0.1070 - accuracy: 0.9637"
          ]
        },
        {
          "output_type": "stream",
          "name": "stderr",
          "text": [
            "WARNING:tensorflow:Early stopping conditioned on metric `val_loss` which is not available. Available metrics are: loss,accuracy\n"
          ]
        },
        {
          "output_type": "stream",
          "name": "stdout",
          "text": [
            "\b\b\b\b\b\b\b\b\b\b\b\b\b\b\b\b\b\b\b\b\b\b\b\b\b\b\b\b\b\b\b\b\b\b\b\b\b\b\b\b\b\b\b\b\b\b\b\b\b\b\b\b\b\b\b\b\b\b\b\b\b\b\b\b\b\b\b\b\b\b\b\b\b\b\b\b\b\b\b\b\b\b\r71/71 [==============================] - 89s 1s/step - loss: 0.1070 - accuracy: 0.9637\n"
          ]
        }
      ]
    },
    {
      "cell_type": "code",
      "source": [
        "recurrent_model.save_weights('/content/embedded_lstm_weights.h5')\n",
        "\n",
        "y_test_pred_hateful = recurrent_model.predict(test_x)\n",
        "\n",
        "\n",
        "smaller_than = 0.499\n",
        "list_of_numbers = list()\n",
        "\n",
        "for y in y_test_pred_hateful:\n",
        "        #print(int(y))\n",
        "    if y <= smaller_than:\n",
        "        list_of_numbers.append(int(\"0\"))\n",
        "    else:\n",
        "        list_of_numbers.append(int(\"1\"))\n",
        "\n",
        "print(list_of_numbers)\n",
        "\n",
        "test_y_new = []\n",
        "for x in test_y:\n",
        "    x_new = float(x)\n",
        "    x_new = np.asarray(x_new)\n",
        "    test_y_new.append(x_new)\n",
        "\n",
        "accuracy = accuracy_score(test_y_new, y_test_pred_hateful.round())\n",
        "prec = precision_score(test_y_new, y_test_pred_hateful.round(), average='macro')\n",
        "rec = recall_score(test_y_new, y_test_pred_hateful.round(), average='macro')\n",
        "f1 = f1_score(test_y_new, y_test_pred_hateful.round(), average='macro')\n",
        "#print(y_test_pred_hateful)\n",
        "\n",
        "\n",
        "print(recurrent_model.summary())\n",
        "print(\"Precision:\", prec, \"\\n Recall:\", rec, \"\\n F1-score:\", f1, \"n Accuracy:\", accuracy)\n",
        "print(f\"Start time:{time1} \\n End time:{time2}\")"
      ],
      "metadata": {
        "colab": {
          "base_uri": "https://localhost:8080/"
        },
        "id": "CwhmqxfnB2tc",
        "outputId": "d3f9e1f7-b55f-4408-d099-a19fb7cddb7b"
      },
      "execution_count": null,
      "outputs": [
        {
          "output_type": "stream",
          "name": "stdout",
          "text": [
            "32/32 [==============================] - 6s 175ms/step\n",
            "[1, 0, 1, 1, 0, 0, 1, 0, 0, 0, 1, 1, 1, 0, 0, 0, 0, 1, 0, 0, 0, 0, 0, 1, 1, 0, 0, 1, 0, 0, 0, 1, 0, 1, 0, 1, 0, 0, 0, 0, 1, 0, 0, 0, 0, 0, 1, 0, 0, 0, 0, 0, 0, 0, 0, 0, 1, 1, 1, 0, 0, 0, 0, 0, 0, 1, 1, 0, 0, 1, 0, 0, 0, 0, 0, 1, 0, 0, 0, 1, 1, 1, 1, 1, 0, 1, 0, 1, 0, 0, 0, 0, 0, 1, 0, 1, 1, 1, 0, 1, 1, 1, 1, 1, 1, 0, 0, 0, 1, 0, 0, 1, 1, 0, 1, 0, 0, 1, 1, 1, 0, 0, 0, 0, 1, 0, 1, 1, 0, 1, 1, 0, 0, 0, 1, 1, 0, 1, 0, 1, 0, 0, 0, 0, 0, 0, 1, 0, 1, 0, 0, 0, 1, 0, 0, 0, 0, 1, 1, 1, 1, 1, 0, 0, 0, 0, 1, 0, 0, 0, 1, 1, 0, 0, 0, 0, 0, 1, 1, 0, 1, 0, 1, 0, 1, 0, 1, 0, 1, 1, 1, 1, 1, 0, 1, 0, 1, 0, 1, 0, 1, 1, 0, 0, 1, 0, 1, 0, 1, 1, 0, 0, 1, 0, 0, 1, 1, 1, 1, 1, 0, 1, 0, 1, 1, 0, 0, 0, 0, 1, 0, 1, 1, 1, 0, 0, 1, 0, 1, 0, 0, 0, 0, 0, 0, 0, 0, 0, 1, 0, 1, 1, 0, 1, 1, 1, 0, 1, 0, 0, 0, 1, 1, 0, 1, 0, 0, 1, 0, 1, 1, 1, 0, 1, 0, 1, 1, 0, 1, 0, 0, 0, 1, 0, 1, 0, 1, 0, 0, 0, 0, 0, 1, 0, 1, 1, 1, 0, 0, 0, 0, 0, 0, 0, 1, 1, 0, 1, 0, 1, 1, 0, 1, 0, 0, 0, 0, 0, 1, 0, 0, 1, 0, 0, 0, 0, 0, 1, 0, 0, 0, 1, 1, 1, 0, 0, 0, 0, 1, 0, 0, 0, 0, 0, 0, 0, 1, 0, 1, 1, 0, 1, 0, 0, 0, 0, 1, 1, 1, 1, 0, 0, 0, 1, 1, 0, 0, 1, 1, 1, 1, 0, 0, 1, 0, 1, 1, 0, 0, 1, 1, 0, 0, 1, 1, 1, 1, 0, 0, 0, 0, 1, 0, 0, 0, 1, 1, 1, 0, 0, 0, 0, 1, 0, 0, 0, 0, 1, 1, 0, 0, 0, 1, 1, 1, 1, 1, 0, 0, 0, 0, 0, 1, 1, 1, 0, 0, 0, 0, 0, 0, 1, 1, 1, 0, 0, 0, 0, 0, 1, 1, 1, 0, 1, 1, 0, 0, 0, 0, 1, 0, 1, 0, 0, 0, 0, 0, 1, 0, 1, 1, 0, 1, 0, 0, 0, 0, 0, 0, 1, 0, 0, 1, 0, 0, 1, 0, 0, 1, 0, 0, 0, 1, 0, 1, 0, 0, 1, 1, 1, 1, 0, 1, 0, 0, 0, 1, 1, 0, 0, 0, 1, 0, 0, 1, 1, 0, 1, 1, 1, 1, 1, 0, 0, 1, 0, 0, 1, 1, 0, 1, 1, 1, 0, 1, 1, 0, 1, 1, 0, 0, 0, 0, 1, 1, 0, 0, 1, 0, 0, 0, 0, 1, 0, 1, 1, 0, 0, 0, 1, 1, 1, 1, 0, 0, 1, 0, 0, 1, 1, 0, 1, 0, 1, 1, 0, 1, 1, 1, 1, 1, 1, 0, 1, 1, 0, 1, 0, 0, 1, 0, 0, 1, 1, 0, 1, 1, 1, 1, 1, 1, 1, 0, 0, 0, 0, 0, 0, 0, 0, 1, 1, 1, 0, 0, 0, 0, 0, 1, 1, 1, 0, 0, 0, 1, 1, 0, 0, 0, 1, 1, 0, 0, 0, 0, 1, 0, 1, 0, 1, 0, 0, 0, 1, 0, 1, 1, 1, 1, 1, 1, 0, 0, 0, 1, 1, 1, 0, 1, 1, 1, 0, 0, 0, 0, 0, 1, 1, 1, 1, 1, 0, 1, 0, 1, 0, 0, 0, 1, 0, 1, 1, 1, 1, 0, 0, 1, 0, 1, 0, 0, 1, 1, 1, 1, 1, 1, 1, 1, 1, 0, 0, 1, 0, 0, 0, 1, 1, 1, 1, 0, 1, 0, 0, 0, 0, 1, 1, 0, 1, 0, 0, 1, 0, 0, 1, 0, 0, 0, 1, 1, 1, 1, 1, 1, 0, 1, 0, 0, 0, 0, 1, 1, 0, 1, 0, 1, 1, 0, 1, 0, 1, 1, 1, 0, 0, 1, 1, 0, 1, 0, 0, 0, 1, 1, 1, 0, 0, 1, 1, 1, 1, 0, 1, 1, 0, 0, 0, 0, 1, 1, 0, 0, 1, 1, 1, 1, 0, 0, 0, 0, 1, 0, 0, 0, 0, 1, 1, 0, 0, 1, 1, 0, 0, 0, 1, 0, 0, 1, 0, 1, 1, 1, 1, 0, 0, 0, 0, 1, 1, 0, 0, 1, 0, 1, 1, 0, 1, 0, 0, 0, 0, 1, 1, 0, 0, 1, 1, 0, 1, 1, 0, 0, 0, 0, 0, 0, 1, 0, 0, 1, 1, 1, 1, 0, 1, 1, 0, 0, 1, 1, 0, 0, 1, 1, 1, 1, 0, 0, 1, 1, 1, 0, 1, 1, 1, 1, 0, 0, 0, 0, 1, 0, 0, 0, 1, 1, 1, 0, 0, 1, 1, 1, 1, 1, 0, 0, 0, 1, 0, 1, 1, 1, 0, 1, 1, 0, 0, 1, 1, 1, 1, 1, 1, 0, 0, 1, 1, 0, 1, 0, 1, 1, 0, 0, 0, 1, 1, 1, 1, 1, 1, 0, 1, 1, 0, 0, 1, 1, 0, 0, 0, 1, 0, 0, 1, 1, 1, 1, 0, 0, 0, 0, 0, 0, 0, 0, 0, 0, 1, 0, 0, 0, 1, 0, 0, 1, 0, 1, 0, 1, 1, 0, 1, 1, 0, 0, 0, 1, 0, 0, 1, 0, 0, 0, 1, 1, 1, 1, 0, 1, 1, 0, 1, 1, 1, 1, 0, 1, 1, 1, 1, 0, 1, 0, 0, 1, 1, 1, 1]\n",
            "Model: \"sequential_1\"\n",
            "_________________________________________________________________\n",
            " Layer (type)                Output Shape              Param #   \n",
            "=================================================================\n",
            " embedding (Embedding)       (None, 327, 28)           140000    \n",
            "                                                                 \n",
            " lstm (LSTM)                 (None, 327, 64)           23808     \n",
            "                                                                 \n",
            " flatten (Flatten)           (None, 20928)             0         \n",
            "                                                                 \n",
            " dense (Dense)               (None, 1)                 20929     \n",
            "                                                                 \n",
            "=================================================================\n",
            "Total params: 184737 (721.63 KB)\n",
            "Trainable params: 184737 (721.63 KB)\n",
            "Non-trainable params: 0 (0.00 Byte)\n",
            "_________________________________________________________________\n",
            "None\n",
            "Precision: 0.645603456939001 \n",
            " Recall: 0.6480457430590467 \n",
            " F1-score: 0.645869420925677 n Accuracy: 0.65\n",
            "Start time:Wed Nov 29 19:43:13 2023 \n",
            " End time:Wed Nov 29 20:57:38 2023\n"
          ]
        }
      ]
    },
    {
      "cell_type": "code",
      "source": [
        "import csv\n",
        "import numpy as np\n",
        "from keras.models import Sequential\n",
        "from keras.layers import Embedding, LSTM, Flatten, Dense\n",
        "from keras.preprocessing.sequence import pad_sequences\n",
        "import keras\n",
        "\n",
        "def load_model(max_sent, weights_path):\n",
        "    # Create the model architecture - this has to match the architecture of the trained model\n",
        "    model = Sequential()\n",
        "    model.add(Embedding(input_dim=5000, output_dim=28, input_length=max_sent, mask_zero=False))\n",
        "    model.add(LSTM(units=64, return_sequences=True, recurrent_dropout=0.1))\n",
        "    model.add(Flatten())\n",
        "    model.add(Dense(units=1, activation='sigmoid'))\n",
        "\n",
        "    # Load the trained weights\n",
        "    model.load_weights(weights_path)\n",
        "\n",
        "    return model\n",
        "\n",
        "def get_max_sentence_and_alphabet(train_file):\n",
        "  list_of_sentences_train = list()\n",
        "  max_length = list()\n",
        "\n",
        "    ### Train file ###\n",
        "  with open(train_file, encoding=\"utf8\") as cur_train_file:\n",
        "      reader = csv.reader(cur_train_file, delimiter='\\t')\n",
        "      for row in reader:\n",
        "          list_of_sentences_train.append(row[1])\n",
        "\n",
        "  list_of_sentences_train.pop(0)\n",
        "\n",
        "  for x in list_of_sentences_train:\n",
        "      max_length.append(len(x))\n",
        "  longest_sent = max(max_length)\n",
        "\n",
        "  alphabet = dict()\n",
        "\n",
        "  for sent in list_of_sentences_train:\n",
        "      for char in sent:\n",
        "          if char not in alphabet:\n",
        "            alphabet[char] = len(alphabet) + 1\n",
        "  return alphabet, longest_sent\n",
        "\n",
        "def preprocess_input(sentence, alphabet, max_sent):\n",
        "    # Convert each character in the sentence to its corresponding integer\n",
        "    sentence_integers = []\n",
        "    alphabet_length = len(alphabet)\n",
        "    for char in sentence:\n",
        "        if char in alphabet:\n",
        "            sentence_integers.append(alphabet[char])\n",
        "        else:\n",
        "            unk = alphabet_length + 1  # For unknown characters\n",
        "            sentence_integers.append(unk)\n",
        "\n",
        "    # Pad the sequence to the maximum length used during training\n",
        "    padded_seq = pad_sequences([sentence_integers], maxlen=max_sent, padding='post', value=0)\n",
        "\n",
        "    return padded_seq\n",
        "\n",
        "\n",
        "# Usage example\n",
        "weights_path = '/content/embedded_lstm_weights.h5'  # Path to your saved weights\n",
        "\n",
        "alphabet, max_sent = get_max_sentence_and_alphabet(\"/content/train_en.tsv\")\n",
        "#print(f\"maximum length of a sentence = {max_sent}/nAlphabet dictionary : {alphabet}\")\n",
        "model = load_model(max_sent, weights_path)\n",
        "\n",
        "# Example usage\n",
        "sentence = input(\"Enter your sentence: \")\n",
        "\n",
        "processed_sentence = preprocess_input(sentence, alphabet, max_sent)\n",
        "prediction = model.predict(processed_sentence)\n",
        "predicted_label = \"Hateful\" if prediction[0][0] > 0.5 else \"Non-Hateful\"\n",
        "print(f\"The sentence is: {predicted_label}\")"
      ],
      "metadata": {
        "colab": {
          "base_uri": "https://localhost:8080/"
        },
        "id": "S0nFW8r_En1f",
        "outputId": "cca83551-5b1d-4fb6-a663-2a9af779898f"
      },
      "execution_count": null,
      "outputs": [
        {
          "output_type": "stream",
          "name": "stderr",
          "text": [
            "WARNING:tensorflow:Layer lstm_3 will not use cuDNN kernels since it doesn't meet the criteria. It will use a generic GPU kernel as fallback when running on GPU.\n"
          ]
        },
        {
          "output_type": "stream",
          "name": "stdout",
          "text": [
            "Enter your sentence: Donald Trump is an asshole\n",
            "1/1 [==============================] - 0s 322ms/step\n",
            "The sentence is: Hateful\n"
          ]
        }
      ]
    },
    {
      "cell_type": "code",
      "source": [],
      "metadata": {
        "id": "GtgPSBZENfPU"
      },
      "execution_count": null,
      "outputs": []
    }
  ]
}